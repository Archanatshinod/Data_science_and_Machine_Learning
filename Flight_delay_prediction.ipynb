{
  "nbformat": 4,
  "nbformat_minor": 0,
  "metadata": {
    "colab": {
      "provenance": [],
      "mount_file_id": "1CLT2B9Uyz7UoMHrxt_cOl2iCt-6WvhCr",
      "authorship_tag": "ABX9TyMUaueUjP4mXv37m9tQoA2E",
      "include_colab_link": true
    },
    "kernelspec": {
      "name": "python3",
      "display_name": "Python 3"
    },
    "language_info": {
      "name": "python"
    }
  },
  "cells": [
    {
      "cell_type": "markdown",
      "metadata": {
        "id": "view-in-github",
        "colab_type": "text"
      },
      "source": [
        "<a href=\"https://colab.research.google.com/github/Archanatshinod/Data_science_and_Machine_Learning/blob/main/Flight_delay_prediction.ipynb\" target=\"_parent\"><img src=\"https://colab.research.google.com/assets/colab-badge.svg\" alt=\"Open In Colab\"/></a>"
      ]
    },
    {
      "cell_type": "code",
      "execution_count": 84,
      "metadata": {
        "id": "MbcHNFpuzixq"
      },
      "outputs": [],
      "source": [
        "import pandas as pd\n",
        "import numpy as np\n",
        "from sklearn.model_selection import train_test_split\n",
        "from sklearn.preprocessing import LabelEncoder\n",
        "from sklearn.ensemble import RandomForestClassifier\n",
        "from sklearn.metrics import roc_auc_score\n",
        "from sklearn.metrics import accuracy_score\n",
        "import seaborn as sns\n"
      ]
    },
    {
      "cell_type": "code",
      "source": [
        "train_set=pd.read_csv('/content/drive/MyDrive/Colab Notebooks/DATASET/flight_delays_train.csv')"
      ],
      "metadata": {
        "id": "Ds38e0XB0rk1"
      },
      "execution_count": 41,
      "outputs": []
    },
    {
      "cell_type": "code",
      "source": [
        "test_set=pd.read_csv('/content/drive/MyDrive/Colab Notebooks/DATASET/flight_delays_test.csv')"
      ],
      "metadata": {
        "id": "AcekBnj309nY"
      },
      "execution_count": 42,
      "outputs": []
    },
    {
      "cell_type": "code",
      "source": [
        "print(\"------TRAINING SET------\")\n",
        "print(train_set)"
      ],
      "metadata": {
        "colab": {
          "base_uri": "https://localhost:8080/"
        },
        "id": "08TfEUzU1Yri",
        "outputId": "10b440b3-faf4-4f38-9b0f-3303404d06ae"
      },
      "execution_count": 4,
      "outputs": [
        {
          "output_type": "stream",
          "name": "stdout",
          "text": [
            "------TRAINING SET------\n",
            "      Month DayofMonth DayOfWeek  DepTime UniqueCarrier Origin Dest  Distance  \\\n",
            "0       c-8       c-21       c-7     1934            AA    ATL  DFW       732   \n",
            "1       c-4       c-20       c-3     1548            US    PIT  MCO       834   \n",
            "2       c-9        c-2       c-5     1422            XE    RDU  CLE       416   \n",
            "3      c-11       c-25       c-6     1015            OO    DEN  MEM       872   \n",
            "4      c-10        c-7       c-6     1828            WN    MDW  OMA       423   \n",
            "...     ...        ...       ...      ...           ...    ...  ...       ...   \n",
            "99995   c-5        c-4       c-3     1618            OO    SFO  RDD       199   \n",
            "99996   c-1       c-18       c-3      804            CO    EWR  DAB       884   \n",
            "99997   c-1       c-24       c-2     1901            NW    DTW  IAH      1076   \n",
            "99998   c-4       c-27       c-4     1515            MQ    DFW  GGG       140   \n",
            "99999  c-11       c-17       c-4     1800            WN    SEA  SMF       605   \n",
            "\n",
            "      dep_delayed_15min  \n",
            "0                     N  \n",
            "1                     N  \n",
            "2                     N  \n",
            "3                     N  \n",
            "4                     Y  \n",
            "...                 ...  \n",
            "99995                 N  \n",
            "99996                 N  \n",
            "99997                 N  \n",
            "99998                 N  \n",
            "99999                 N  \n",
            "\n",
            "[100000 rows x 9 columns]\n"
          ]
        }
      ]
    },
    {
      "cell_type": "code",
      "source": [
        "print(train_set.info())"
      ],
      "metadata": {
        "colab": {
          "base_uri": "https://localhost:8080/"
        },
        "id": "vTLFJ8an139M",
        "outputId": "5add6341-20f0-49fd-9728-7f3978f9c4d3"
      },
      "execution_count": 5,
      "outputs": [
        {
          "output_type": "stream",
          "name": "stdout",
          "text": [
            "<class 'pandas.core.frame.DataFrame'>\n",
            "RangeIndex: 100000 entries, 0 to 99999\n",
            "Data columns (total 9 columns):\n",
            " #   Column             Non-Null Count   Dtype \n",
            "---  ------             --------------   ----- \n",
            " 0   Month              100000 non-null  object\n",
            " 1   DayofMonth         100000 non-null  object\n",
            " 2   DayOfWeek          100000 non-null  object\n",
            " 3   DepTime            100000 non-null  int64 \n",
            " 4   UniqueCarrier      100000 non-null  object\n",
            " 5   Origin             100000 non-null  object\n",
            " 6   Dest               100000 non-null  object\n",
            " 7   Distance           100000 non-null  int64 \n",
            " 8   dep_delayed_15min  100000 non-null  object\n",
            "dtypes: int64(2), object(7)\n",
            "memory usage: 6.9+ MB\n",
            "None\n"
          ]
        }
      ]
    },
    {
      "cell_type": "code",
      "source": [
        "print(train_set.head(5))"
      ],
      "metadata": {
        "colab": {
          "base_uri": "https://localhost:8080/"
        },
        "id": "bdEIw8Fe2E0w",
        "outputId": "179db2ca-d296-4a13-c728-c4cd9af3658e"
      },
      "execution_count": 6,
      "outputs": [
        {
          "output_type": "stream",
          "name": "stdout",
          "text": [
            "  Month DayofMonth DayOfWeek  DepTime UniqueCarrier Origin Dest  Distance  \\\n",
            "0   c-8       c-21       c-7     1934            AA    ATL  DFW       732   \n",
            "1   c-4       c-20       c-3     1548            US    PIT  MCO       834   \n",
            "2   c-9        c-2       c-5     1422            XE    RDU  CLE       416   \n",
            "3  c-11       c-25       c-6     1015            OO    DEN  MEM       872   \n",
            "4  c-10        c-7       c-6     1828            WN    MDW  OMA       423   \n",
            "\n",
            "  dep_delayed_15min  \n",
            "0                 N  \n",
            "1                 N  \n",
            "2                 N  \n",
            "3                 N  \n",
            "4                 Y  \n"
          ]
        }
      ]
    },
    {
      "cell_type": "code",
      "source": [
        "print(\"------TESTING SET------\")\n",
        "print(test_set)"
      ],
      "metadata": {
        "colab": {
          "base_uri": "https://localhost:8080/"
        },
        "id": "eBMNQSLI2Uog",
        "outputId": "30ce0aca-e0ca-4a16-b82c-0e5bf64a4909"
      },
      "execution_count": 7,
      "outputs": [
        {
          "output_type": "stream",
          "name": "stdout",
          "text": [
            "------TESTING SET------\n",
            "      Month DayofMonth DayOfWeek  DepTime UniqueCarrier Origin Dest  Distance\n",
            "0       c-7       c-25       c-3      615            YV    MRY  PHX       598\n",
            "1       c-4       c-17       c-2      739            WN    LAS  HOU      1235\n",
            "2      c-12        c-2       c-7      651            MQ    GSP  ORD       577\n",
            "3       c-3       c-25       c-7     1614            WN    BWI  MHT       377\n",
            "4       c-6        c-6       c-3     1505            UA    ORD  STL       258\n",
            "...     ...        ...       ...      ...           ...    ...  ...       ...\n",
            "99995   c-6        c-5       c-2      852            WN    CRP  HOU       187\n",
            "99996  c-11       c-24       c-6     1446            UA    ORD  LAS      1515\n",
            "99997   c-1       c-30       c-2     1509            OO    ORD  SGF       438\n",
            "99998   c-1        c-5       c-5      804            DL    LGA  ATL       761\n",
            "99999  c-10       c-29       c-1      834            OO    MKE  MSP       297\n",
            "\n",
            "[100000 rows x 8 columns]\n"
          ]
        }
      ]
    },
    {
      "cell_type": "code",
      "source": [
        "print(test_set.info())\n"
      ],
      "metadata": {
        "colab": {
          "base_uri": "https://localhost:8080/"
        },
        "id": "aAI1QS4V2e1V",
        "outputId": "29705376-41e9-4b47-d826-9600fc0b6d4a"
      },
      "execution_count": 8,
      "outputs": [
        {
          "output_type": "stream",
          "name": "stdout",
          "text": [
            "<class 'pandas.core.frame.DataFrame'>\n",
            "RangeIndex: 100000 entries, 0 to 99999\n",
            "Data columns (total 8 columns):\n",
            " #   Column         Non-Null Count   Dtype \n",
            "---  ------         --------------   ----- \n",
            " 0   Month          100000 non-null  object\n",
            " 1   DayofMonth     100000 non-null  object\n",
            " 2   DayOfWeek      100000 non-null  object\n",
            " 3   DepTime        100000 non-null  int64 \n",
            " 4   UniqueCarrier  100000 non-null  object\n",
            " 5   Origin         100000 non-null  object\n",
            " 6   Dest           100000 non-null  object\n",
            " 7   Distance       100000 non-null  int64 \n",
            "dtypes: int64(2), object(6)\n",
            "memory usage: 6.1+ MB\n",
            "None\n"
          ]
        }
      ]
    },
    {
      "cell_type": "code",
      "source": [
        "print(test_set.tail(3))"
      ],
      "metadata": {
        "colab": {
          "base_uri": "https://localhost:8080/"
        },
        "id": "3XK6yeQK2lpj",
        "outputId": "09259d20-4d3b-438e-ab8c-6bce84b10222"
      },
      "execution_count": 9,
      "outputs": [
        {
          "output_type": "stream",
          "name": "stdout",
          "text": [
            "      Month DayofMonth DayOfWeek  DepTime UniqueCarrier Origin Dest  Distance\n",
            "99997   c-1       c-30       c-2     1509            OO    ORD  SGF       438\n",
            "99998   c-1        c-5       c-5      804            DL    LGA  ATL       761\n",
            "99999  c-10       c-29       c-1      834            OO    MKE  MSP       297\n"
          ]
        }
      ]
    },
    {
      "cell_type": "code",
      "source": [
        "from sklearn.preprocessing import OrdinalEncoder\n",
        "enc = OrdinalEncoder()\n",
        "categorical_cols = ['Month','DayofMonth','DayOfWeek', 'UniqueCarrier','Origin','Dest','dep_delayed_15min']\n",
        "train_set[categorical_cols] = enc.fit_transform(train_set[categorical_cols])\n",
        "print(train_set)\n"
      ],
      "metadata": {
        "colab": {
          "base_uri": "https://localhost:8080/"
        },
        "id": "WAJTe2oQ5GFL",
        "outputId": "50bb856d-b233-40e2-94fb-af75311b0ace"
      },
      "execution_count": 73,
      "outputs": [
        {
          "output_type": "stream",
          "name": "stdout",
          "text": [
            "       Month  DayofMonth  DayOfWeek  DepTime  UniqueCarrier  Origin   Dest  \\\n",
            "0       10.0        13.0        6.0     1934            0.0    18.0   78.0   \n",
            "1        6.0        12.0        2.0     1548           18.0   217.0  171.0   \n",
            "2       11.0        11.0        4.0     1422           20.0   228.0   59.0   \n",
            "3        2.0        17.0        5.0     1015           15.0    78.0  175.0   \n",
            "4        1.0        28.0        5.0     1828           19.0   174.0  199.0   \n",
            "...      ...         ...        ...      ...            ...     ...    ...   \n",
            "99995    7.0        25.0        2.0     1618           15.0   246.0  224.0   \n",
            "99996    0.0         9.0        2.0      804            4.0    92.0   72.0   \n",
            "99997    0.0        16.0        1.0     1901           13.0    85.0  131.0   \n",
            "99998    6.0        19.0        3.0     1515           12.0    79.0  107.0   \n",
            "99999    2.0         8.0        3.0     1800           19.0   245.0  253.0   \n",
            "\n",
            "       Distance  dep_delayed_15min  \n",
            "0           732                0.0  \n",
            "1           834                0.0  \n",
            "2           416                0.0  \n",
            "3           872                0.0  \n",
            "4           423                1.0  \n",
            "...         ...                ...  \n",
            "99995       199                0.0  \n",
            "99996       884                0.0  \n",
            "99997      1076                0.0  \n",
            "99998       140                0.0  \n",
            "99999       605                0.0  \n",
            "\n",
            "[100000 rows x 9 columns]\n"
          ]
        }
      ]
    },
    {
      "cell_type": "code",
      "source": [
        "ens = OrdinalEncoder()\n",
        "categorical_cols = ['Month','DayofMonth','DayOfWeek', 'UniqueCarrier','Origin','Dest']\n",
        "test_set[categorical_cols] = ens.fit_transform(test_set[categorical_cols])\n",
        "print(test_set)"
      ],
      "metadata": {
        "colab": {
          "base_uri": "https://localhost:8080/"
        },
        "id": "bvVPpAL7-szn",
        "outputId": "edc88856-9f3b-4ce4-dc28-8b10245522b2"
      },
      "execution_count": 74,
      "outputs": [
        {
          "output_type": "stream",
          "name": "stdout",
          "text": [
            "       Month  DayofMonth  DayOfWeek  DepTime  UniqueCarrier  Origin   Dest  \\\n",
            "0        9.0        17.0        2.0      615           19.0   194.0  217.0   \n",
            "1        6.0         8.0        1.0      739           17.0   155.0  129.0   \n",
            "2        3.0        11.0        6.0      651           11.0   121.0  208.0   \n",
            "3        5.0        17.0        6.0     1614           17.0    49.0  183.0   \n",
            "4        8.0        27.0        2.0     1505           15.0   209.0  270.0   \n",
            "...      ...         ...        ...      ...            ...     ...    ...   \n",
            "99995    8.0        26.0        1.0      852           17.0    70.0  129.0   \n",
            "99996    2.0        16.0        5.0     1446           15.0   209.0  154.0   \n",
            "99997    0.0        23.0        1.0     1509           14.0   209.0  254.0   \n",
            "99998    0.0        26.0        4.0      804            6.0   162.0   19.0   \n",
            "99999    1.0        21.0        0.0      834           14.0   186.0  196.0   \n",
            "\n",
            "       Distance  \n",
            "0           598  \n",
            "1          1235  \n",
            "2           577  \n",
            "3           377  \n",
            "4           258  \n",
            "...         ...  \n",
            "99995       187  \n",
            "99996      1515  \n",
            "99997       438  \n",
            "99998       761  \n",
            "99999       297  \n",
            "\n",
            "[100000 rows x 8 columns]\n"
          ]
        }
      ]
    },
    {
      "cell_type": "code",
      "source": [
        "from sklearn.model_selection import train_test_split\n",
        "x_train,x_test,y_train,y_test=train_test_split(train_set,test_set,test_size=0.25,random_state=42)\n"
      ],
      "metadata": {
        "id": "QB0EfQ0I3Eoj"
      },
      "execution_count": 75,
      "outputs": []
    },
    {
      "cell_type": "code",
      "source": [
        "from sklearn.neighbors import KNeighborsClassifier\n",
        "from sklearn.metrics import accuracy_score\n",
        "\n",
        "knn=KNeighborsClassifier(n_neighbors=5)\n",
        "knn.fit(x_train,y_train)"
      ],
      "metadata": {
        "colab": {
          "base_uri": "https://localhost:8080/",
          "height": 74
        },
        "id": "xHM54aUX_0et",
        "outputId": "e497dadd-a285-49e0-aae4-0f1db4e1ff70"
      },
      "execution_count": 76,
      "outputs": [
        {
          "output_type": "execute_result",
          "data": {
            "text/plain": [
              "KNeighborsClassifier()"
            ],
            "text/html": [
              "<style>#sk-container-id-3 {color: black;}#sk-container-id-3 pre{padding: 0;}#sk-container-id-3 div.sk-toggleable {background-color: white;}#sk-container-id-3 label.sk-toggleable__label {cursor: pointer;display: block;width: 100%;margin-bottom: 0;padding: 0.3em;box-sizing: border-box;text-align: center;}#sk-container-id-3 label.sk-toggleable__label-arrow:before {content: \"▸\";float: left;margin-right: 0.25em;color: #696969;}#sk-container-id-3 label.sk-toggleable__label-arrow:hover:before {color: black;}#sk-container-id-3 div.sk-estimator:hover label.sk-toggleable__label-arrow:before {color: black;}#sk-container-id-3 div.sk-toggleable__content {max-height: 0;max-width: 0;overflow: hidden;text-align: left;background-color: #f0f8ff;}#sk-container-id-3 div.sk-toggleable__content pre {margin: 0.2em;color: black;border-radius: 0.25em;background-color: #f0f8ff;}#sk-container-id-3 input.sk-toggleable__control:checked~div.sk-toggleable__content {max-height: 200px;max-width: 100%;overflow: auto;}#sk-container-id-3 input.sk-toggleable__control:checked~label.sk-toggleable__label-arrow:before {content: \"▾\";}#sk-container-id-3 div.sk-estimator input.sk-toggleable__control:checked~label.sk-toggleable__label {background-color: #d4ebff;}#sk-container-id-3 div.sk-label input.sk-toggleable__control:checked~label.sk-toggleable__label {background-color: #d4ebff;}#sk-container-id-3 input.sk-hidden--visually {border: 0;clip: rect(1px 1px 1px 1px);clip: rect(1px, 1px, 1px, 1px);height: 1px;margin: -1px;overflow: hidden;padding: 0;position: absolute;width: 1px;}#sk-container-id-3 div.sk-estimator {font-family: monospace;background-color: #f0f8ff;border: 1px dotted black;border-radius: 0.25em;box-sizing: border-box;margin-bottom: 0.5em;}#sk-container-id-3 div.sk-estimator:hover {background-color: #d4ebff;}#sk-container-id-3 div.sk-parallel-item::after {content: \"\";width: 100%;border-bottom: 1px solid gray;flex-grow: 1;}#sk-container-id-3 div.sk-label:hover label.sk-toggleable__label {background-color: #d4ebff;}#sk-container-id-3 div.sk-serial::before {content: \"\";position: absolute;border-left: 1px solid gray;box-sizing: border-box;top: 0;bottom: 0;left: 50%;z-index: 0;}#sk-container-id-3 div.sk-serial {display: flex;flex-direction: column;align-items: center;background-color: white;padding-right: 0.2em;padding-left: 0.2em;position: relative;}#sk-container-id-3 div.sk-item {position: relative;z-index: 1;}#sk-container-id-3 div.sk-parallel {display: flex;align-items: stretch;justify-content: center;background-color: white;position: relative;}#sk-container-id-3 div.sk-item::before, #sk-container-id-3 div.sk-parallel-item::before {content: \"\";position: absolute;border-left: 1px solid gray;box-sizing: border-box;top: 0;bottom: 0;left: 50%;z-index: -1;}#sk-container-id-3 div.sk-parallel-item {display: flex;flex-direction: column;z-index: 1;position: relative;background-color: white;}#sk-container-id-3 div.sk-parallel-item:first-child::after {align-self: flex-end;width: 50%;}#sk-container-id-3 div.sk-parallel-item:last-child::after {align-self: flex-start;width: 50%;}#sk-container-id-3 div.sk-parallel-item:only-child::after {width: 0;}#sk-container-id-3 div.sk-dashed-wrapped {border: 1px dashed gray;margin: 0 0.4em 0.5em 0.4em;box-sizing: border-box;padding-bottom: 0.4em;background-color: white;}#sk-container-id-3 div.sk-label label {font-family: monospace;font-weight: bold;display: inline-block;line-height: 1.2em;}#sk-container-id-3 div.sk-label-container {text-align: center;}#sk-container-id-3 div.sk-container {/* jupyter's `normalize.less` sets `[hidden] { display: none; }` but bootstrap.min.css set `[hidden] { display: none !important; }` so we also need the `!important` here to be able to override the default hidden behavior on the sphinx rendered scikit-learn.org. See: https://github.com/scikit-learn/scikit-learn/issues/21755 */display: inline-block !important;position: relative;}#sk-container-id-3 div.sk-text-repr-fallback {display: none;}</style><div id=\"sk-container-id-3\" class=\"sk-top-container\"><div class=\"sk-text-repr-fallback\"><pre>KNeighborsClassifier()</pre><b>In a Jupyter environment, please rerun this cell to show the HTML representation or trust the notebook. <br />On GitHub, the HTML representation is unable to render, please try loading this page with nbviewer.org.</b></div><div class=\"sk-container\" hidden><div class=\"sk-item\"><div class=\"sk-estimator sk-toggleable\"><input class=\"sk-toggleable__control sk-hidden--visually\" id=\"sk-estimator-id-3\" type=\"checkbox\" checked><label for=\"sk-estimator-id-3\" class=\"sk-toggleable__label sk-toggleable__label-arrow\">KNeighborsClassifier</label><div class=\"sk-toggleable__content\"><pre>KNeighborsClassifier()</pre></div></div></div></div></div>"
            ]
          },
          "metadata": {},
          "execution_count": 76
        }
      ]
    },
    {
      "cell_type": "code",
      "source": [
        "y_pred1= knn.predict(x_test)\n",
        "y_pred1"
      ],
      "metadata": {
        "colab": {
          "base_uri": "https://localhost:8080/"
        },
        "id": "ZpumCKctAY7Z",
        "outputId": "0fcc3d68-f512-4b2b-c303-2bd31be9a5cd"
      },
      "execution_count": 77,
      "outputs": [
        {
          "output_type": "execute_result",
          "data": {
            "text/plain": [
              "array([[  6.,   7.,   1., ...,  27.,  49., 109.],\n",
              "       [  0.,   2.,   6., ...,  63.,  21.,  83.],\n",
              "       [  0.,  13.,   0., ...,  87., 196., 528.],\n",
              "       ...,\n",
              "       [  1.,   7.,   0., ...,   0.,  19., 304.],\n",
              "       [  8.,   6.,   1., ...,  92., 154., 236.],\n",
              "       [  8.,  29.,   3., ...,  38.,  63., 370.]])"
            ]
          },
          "metadata": {},
          "execution_count": 77
        }
      ]
    },
    {
      "cell_type": "code",
      "source": [
        "acc1 = accuracy_score(y_test,y_pred1)\n",
        "print(\"Accuracy of KNN Algorithm:\", acc1)"
      ],
      "metadata": {
        "colab": {
          "base_uri": "https://localhost:8080/",
          "height": 304
        },
        "id": "pUUCJ-_fAptM",
        "outputId": "8bf2298f-0e31-43f7-f9e5-46b9cfb5e8c0"
      },
      "execution_count": 78,
      "outputs": [
        {
          "output_type": "error",
          "ename": "ValueError",
          "evalue": "multiclass-multioutput is not supported",
          "traceback": [
            "\u001b[0;31m---------------------------------------------------------------------------\u001b[0m",
            "\u001b[0;31mValueError\u001b[0m                                Traceback (most recent call last)",
            "\u001b[0;32m<ipython-input-78-df9cbef28fbc>\u001b[0m in \u001b[0;36m<cell line: 1>\u001b[0;34m()\u001b[0m\n\u001b[0;32m----> 1\u001b[0;31m \u001b[0macc1\u001b[0m \u001b[0;34m=\u001b[0m \u001b[0maccuracy_score\u001b[0m\u001b[0;34m(\u001b[0m\u001b[0my_test\u001b[0m\u001b[0;34m,\u001b[0m\u001b[0my_pred1\u001b[0m\u001b[0;34m)\u001b[0m\u001b[0;34m\u001b[0m\u001b[0;34m\u001b[0m\u001b[0m\n\u001b[0m\u001b[1;32m      2\u001b[0m \u001b[0mprint\u001b[0m\u001b[0;34m(\u001b[0m\u001b[0;34m\"Accuracy of KNN Algorithm:\"\u001b[0m\u001b[0;34m,\u001b[0m \u001b[0macc1\u001b[0m\u001b[0;34m)\u001b[0m\u001b[0;34m\u001b[0m\u001b[0;34m\u001b[0m\u001b[0m\n",
            "\u001b[0;32m/usr/local/lib/python3.10/dist-packages/sklearn/utils/_param_validation.py\u001b[0m in \u001b[0;36mwrapper\u001b[0;34m(*args, **kwargs)\u001b[0m\n\u001b[1;32m    212\u001b[0m                     )\n\u001b[1;32m    213\u001b[0m                 ):\n\u001b[0;32m--> 214\u001b[0;31m                     \u001b[0;32mreturn\u001b[0m \u001b[0mfunc\u001b[0m\u001b[0;34m(\u001b[0m\u001b[0;34m*\u001b[0m\u001b[0margs\u001b[0m\u001b[0;34m,\u001b[0m \u001b[0;34m**\u001b[0m\u001b[0mkwargs\u001b[0m\u001b[0;34m)\u001b[0m\u001b[0;34m\u001b[0m\u001b[0;34m\u001b[0m\u001b[0m\n\u001b[0m\u001b[1;32m    215\u001b[0m             \u001b[0;32mexcept\u001b[0m \u001b[0mInvalidParameterError\u001b[0m \u001b[0;32mas\u001b[0m \u001b[0me\u001b[0m\u001b[0;34m:\u001b[0m\u001b[0;34m\u001b[0m\u001b[0;34m\u001b[0m\u001b[0m\n\u001b[1;32m    216\u001b[0m                 \u001b[0;31m# When the function is just a wrapper around an estimator, we allow\u001b[0m\u001b[0;34m\u001b[0m\u001b[0;34m\u001b[0m\u001b[0m\n",
            "\u001b[0;32m/usr/local/lib/python3.10/dist-packages/sklearn/metrics/_classification.py\u001b[0m in \u001b[0;36maccuracy_score\u001b[0;34m(y_true, y_pred, normalize, sample_weight)\u001b[0m\n\u001b[1;32m    218\u001b[0m \u001b[0;34m\u001b[0m\u001b[0m\n\u001b[1;32m    219\u001b[0m     \u001b[0;31m# Compute accuracy for each possible representation\u001b[0m\u001b[0;34m\u001b[0m\u001b[0;34m\u001b[0m\u001b[0m\n\u001b[0;32m--> 220\u001b[0;31m     \u001b[0my_type\u001b[0m\u001b[0;34m,\u001b[0m \u001b[0my_true\u001b[0m\u001b[0;34m,\u001b[0m \u001b[0my_pred\u001b[0m \u001b[0;34m=\u001b[0m \u001b[0m_check_targets\u001b[0m\u001b[0;34m(\u001b[0m\u001b[0my_true\u001b[0m\u001b[0;34m,\u001b[0m \u001b[0my_pred\u001b[0m\u001b[0;34m)\u001b[0m\u001b[0;34m\u001b[0m\u001b[0;34m\u001b[0m\u001b[0m\n\u001b[0m\u001b[1;32m    221\u001b[0m     \u001b[0mcheck_consistent_length\u001b[0m\u001b[0;34m(\u001b[0m\u001b[0my_true\u001b[0m\u001b[0;34m,\u001b[0m \u001b[0my_pred\u001b[0m\u001b[0;34m,\u001b[0m \u001b[0msample_weight\u001b[0m\u001b[0;34m)\u001b[0m\u001b[0;34m\u001b[0m\u001b[0;34m\u001b[0m\u001b[0m\n\u001b[1;32m    222\u001b[0m     \u001b[0;32mif\u001b[0m \u001b[0my_type\u001b[0m\u001b[0;34m.\u001b[0m\u001b[0mstartswith\u001b[0m\u001b[0;34m(\u001b[0m\u001b[0;34m\"multilabel\"\u001b[0m\u001b[0;34m)\u001b[0m\u001b[0;34m:\u001b[0m\u001b[0;34m\u001b[0m\u001b[0;34m\u001b[0m\u001b[0m\n",
            "\u001b[0;32m/usr/local/lib/python3.10/dist-packages/sklearn/metrics/_classification.py\u001b[0m in \u001b[0;36m_check_targets\u001b[0;34m(y_true, y_pred)\u001b[0m\n\u001b[1;32m    102\u001b[0m     \u001b[0;31m# No metrics support \"multiclass-multioutput\" format\u001b[0m\u001b[0;34m\u001b[0m\u001b[0;34m\u001b[0m\u001b[0m\n\u001b[1;32m    103\u001b[0m     \u001b[0;32mif\u001b[0m \u001b[0my_type\u001b[0m \u001b[0;32mnot\u001b[0m \u001b[0;32min\u001b[0m \u001b[0;34m[\u001b[0m\u001b[0;34m\"binary\"\u001b[0m\u001b[0;34m,\u001b[0m \u001b[0;34m\"multiclass\"\u001b[0m\u001b[0;34m,\u001b[0m \u001b[0;34m\"multilabel-indicator\"\u001b[0m\u001b[0;34m]\u001b[0m\u001b[0;34m:\u001b[0m\u001b[0;34m\u001b[0m\u001b[0;34m\u001b[0m\u001b[0m\n\u001b[0;32m--> 104\u001b[0;31m         \u001b[0;32mraise\u001b[0m \u001b[0mValueError\u001b[0m\u001b[0;34m(\u001b[0m\u001b[0;34m\"{0} is not supported\"\u001b[0m\u001b[0;34m.\u001b[0m\u001b[0mformat\u001b[0m\u001b[0;34m(\u001b[0m\u001b[0my_type\u001b[0m\u001b[0;34m)\u001b[0m\u001b[0;34m)\u001b[0m\u001b[0;34m\u001b[0m\u001b[0;34m\u001b[0m\u001b[0m\n\u001b[0m\u001b[1;32m    105\u001b[0m \u001b[0;34m\u001b[0m\u001b[0m\n\u001b[1;32m    106\u001b[0m     \u001b[0;32mif\u001b[0m \u001b[0my_type\u001b[0m \u001b[0;32min\u001b[0m \u001b[0;34m[\u001b[0m\u001b[0;34m\"binary\"\u001b[0m\u001b[0;34m,\u001b[0m \u001b[0;34m\"multiclass\"\u001b[0m\u001b[0;34m]\u001b[0m\u001b[0;34m:\u001b[0m\u001b[0;34m\u001b[0m\u001b[0;34m\u001b[0m\u001b[0m\n",
            "\u001b[0;31mValueError\u001b[0m: multiclass-multioutput is not supported"
          ]
        }
      ]
    },
    {
      "cell_type": "code",
      "source": [
        "x = train_set.iloc[:,:-1]\n",
        "print(x)"
      ],
      "metadata": {
        "colab": {
          "base_uri": "https://localhost:8080/"
        },
        "id": "7R7HO96yHCVG",
        "outputId": "02d5df69-07c5-4eb6-b176-5d5f9a7c2153"
      },
      "execution_count": 88,
      "outputs": [
        {
          "output_type": "stream",
          "name": "stdout",
          "text": [
            "       Month  DayofMonth  DayOfWeek  DepTime  UniqueCarrier  Origin   Dest  \\\n",
            "0       10.0        13.0        6.0     1934            0.0    18.0   78.0   \n",
            "1        6.0        12.0        2.0     1548           18.0   217.0  171.0   \n",
            "2       11.0        11.0        4.0     1422           20.0   228.0   59.0   \n",
            "3        2.0        17.0        5.0     1015           15.0    78.0  175.0   \n",
            "4        1.0        28.0        5.0     1828           19.0   174.0  199.0   \n",
            "...      ...         ...        ...      ...            ...     ...    ...   \n",
            "99995    7.0        25.0        2.0     1618           15.0   246.0  224.0   \n",
            "99996    0.0         9.0        2.0      804            4.0    92.0   72.0   \n",
            "99997    0.0        16.0        1.0     1901           13.0    85.0  131.0   \n",
            "99998    6.0        19.0        3.0     1515           12.0    79.0  107.0   \n",
            "99999    2.0         8.0        3.0     1800           19.0   245.0  253.0   \n",
            "\n",
            "       Distance  \n",
            "0           732  \n",
            "1           834  \n",
            "2           416  \n",
            "3           872  \n",
            "4           423  \n",
            "...         ...  \n",
            "99995       199  \n",
            "99996       884  \n",
            "99997      1076  \n",
            "99998       140  \n",
            "99999       605  \n",
            "\n",
            "[100000 rows x 8 columns]\n"
          ]
        }
      ]
    },
    {
      "cell_type": "code",
      "source": [
        "y = train_set.iloc[:,-1].values\n",
        "print(y)"
      ],
      "metadata": {
        "colab": {
          "base_uri": "https://localhost:8080/"
        },
        "id": "w75WwQA6HQdl",
        "outputId": "cb28e0a8-ffd7-49b2-bcc2-3fad9bd2131d"
      },
      "execution_count": 95,
      "outputs": [
        {
          "output_type": "stream",
          "name": "stdout",
          "text": [
            "[0. 0. 0. ... 0. 0. 0.]\n"
          ]
        }
      ]
    },
    {
      "cell_type": "code",
      "source": [
        "from sklearn.model_selection import train_test_split\n",
        "x_train,x_test,y_train,y_test=train_test_split(x,y,test_size=0.25,random_state=42)"
      ],
      "metadata": {
        "id": "MN9BnAv9H6hh"
      },
      "execution_count": 96,
      "outputs": []
    },
    {
      "cell_type": "code",
      "source": [
        "from sklearn.neighbors import KNeighborsClassifier\n",
        "knn=KNeighborsClassifier(n_neighbors=5)\n",
        "knn.fit(x_train,y_train)"
      ],
      "metadata": {
        "colab": {
          "base_uri": "https://localhost:8080/",
          "height": 74
        },
        "id": "Y_pSUDcFHegL",
        "outputId": "2f8a1d1c-4969-42c4-e431-d8043fb5b783"
      },
      "execution_count": 97,
      "outputs": [
        {
          "output_type": "execute_result",
          "data": {
            "text/plain": [
              "KNeighborsClassifier()"
            ],
            "text/html": [
              "<style>#sk-container-id-6 {color: black;}#sk-container-id-6 pre{padding: 0;}#sk-container-id-6 div.sk-toggleable {background-color: white;}#sk-container-id-6 label.sk-toggleable__label {cursor: pointer;display: block;width: 100%;margin-bottom: 0;padding: 0.3em;box-sizing: border-box;text-align: center;}#sk-container-id-6 label.sk-toggleable__label-arrow:before {content: \"▸\";float: left;margin-right: 0.25em;color: #696969;}#sk-container-id-6 label.sk-toggleable__label-arrow:hover:before {color: black;}#sk-container-id-6 div.sk-estimator:hover label.sk-toggleable__label-arrow:before {color: black;}#sk-container-id-6 div.sk-toggleable__content {max-height: 0;max-width: 0;overflow: hidden;text-align: left;background-color: #f0f8ff;}#sk-container-id-6 div.sk-toggleable__content pre {margin: 0.2em;color: black;border-radius: 0.25em;background-color: #f0f8ff;}#sk-container-id-6 input.sk-toggleable__control:checked~div.sk-toggleable__content {max-height: 200px;max-width: 100%;overflow: auto;}#sk-container-id-6 input.sk-toggleable__control:checked~label.sk-toggleable__label-arrow:before {content: \"▾\";}#sk-container-id-6 div.sk-estimator input.sk-toggleable__control:checked~label.sk-toggleable__label {background-color: #d4ebff;}#sk-container-id-6 div.sk-label input.sk-toggleable__control:checked~label.sk-toggleable__label {background-color: #d4ebff;}#sk-container-id-6 input.sk-hidden--visually {border: 0;clip: rect(1px 1px 1px 1px);clip: rect(1px, 1px, 1px, 1px);height: 1px;margin: -1px;overflow: hidden;padding: 0;position: absolute;width: 1px;}#sk-container-id-6 div.sk-estimator {font-family: monospace;background-color: #f0f8ff;border: 1px dotted black;border-radius: 0.25em;box-sizing: border-box;margin-bottom: 0.5em;}#sk-container-id-6 div.sk-estimator:hover {background-color: #d4ebff;}#sk-container-id-6 div.sk-parallel-item::after {content: \"\";width: 100%;border-bottom: 1px solid gray;flex-grow: 1;}#sk-container-id-6 div.sk-label:hover label.sk-toggleable__label {background-color: #d4ebff;}#sk-container-id-6 div.sk-serial::before {content: \"\";position: absolute;border-left: 1px solid gray;box-sizing: border-box;top: 0;bottom: 0;left: 50%;z-index: 0;}#sk-container-id-6 div.sk-serial {display: flex;flex-direction: column;align-items: center;background-color: white;padding-right: 0.2em;padding-left: 0.2em;position: relative;}#sk-container-id-6 div.sk-item {position: relative;z-index: 1;}#sk-container-id-6 div.sk-parallel {display: flex;align-items: stretch;justify-content: center;background-color: white;position: relative;}#sk-container-id-6 div.sk-item::before, #sk-container-id-6 div.sk-parallel-item::before {content: \"\";position: absolute;border-left: 1px solid gray;box-sizing: border-box;top: 0;bottom: 0;left: 50%;z-index: -1;}#sk-container-id-6 div.sk-parallel-item {display: flex;flex-direction: column;z-index: 1;position: relative;background-color: white;}#sk-container-id-6 div.sk-parallel-item:first-child::after {align-self: flex-end;width: 50%;}#sk-container-id-6 div.sk-parallel-item:last-child::after {align-self: flex-start;width: 50%;}#sk-container-id-6 div.sk-parallel-item:only-child::after {width: 0;}#sk-container-id-6 div.sk-dashed-wrapped {border: 1px dashed gray;margin: 0 0.4em 0.5em 0.4em;box-sizing: border-box;padding-bottom: 0.4em;background-color: white;}#sk-container-id-6 div.sk-label label {font-family: monospace;font-weight: bold;display: inline-block;line-height: 1.2em;}#sk-container-id-6 div.sk-label-container {text-align: center;}#sk-container-id-6 div.sk-container {/* jupyter's `normalize.less` sets `[hidden] { display: none; }` but bootstrap.min.css set `[hidden] { display: none !important; }` so we also need the `!important` here to be able to override the default hidden behavior on the sphinx rendered scikit-learn.org. See: https://github.com/scikit-learn/scikit-learn/issues/21755 */display: inline-block !important;position: relative;}#sk-container-id-6 div.sk-text-repr-fallback {display: none;}</style><div id=\"sk-container-id-6\" class=\"sk-top-container\"><div class=\"sk-text-repr-fallback\"><pre>KNeighborsClassifier()</pre><b>In a Jupyter environment, please rerun this cell to show the HTML representation or trust the notebook. <br />On GitHub, the HTML representation is unable to render, please try loading this page with nbviewer.org.</b></div><div class=\"sk-container\" hidden><div class=\"sk-item\"><div class=\"sk-estimator sk-toggleable\"><input class=\"sk-toggleable__control sk-hidden--visually\" id=\"sk-estimator-id-6\" type=\"checkbox\" checked><label for=\"sk-estimator-id-6\" class=\"sk-toggleable__label sk-toggleable__label-arrow\">KNeighborsClassifier</label><div class=\"sk-toggleable__content\"><pre>KNeighborsClassifier()</pre></div></div></div></div></div>"
            ]
          },
          "metadata": {},
          "execution_count": 97
        }
      ]
    },
    {
      "cell_type": "code",
      "source": [
        "y_pred1= knn.predict(x_test)\n",
        "y_pred1"
      ],
      "metadata": {
        "colab": {
          "base_uri": "https://localhost:8080/"
        },
        "id": "CPmBs70UHuCf",
        "outputId": "63abbc9b-8d11-46fd-bdaf-b396bb09c409"
      },
      "execution_count": 98,
      "outputs": [
        {
          "output_type": "execute_result",
          "data": {
            "text/plain": [
              "array([0., 0., 0., ..., 1., 0., 0.])"
            ]
          },
          "metadata": {},
          "execution_count": 98
        }
      ]
    },
    {
      "cell_type": "code",
      "source": [
        "acc1 = accuracy_score(y_test,y_pred1)\n",
        "print(\"Accuracy of KNN Algorithm:\", acc1)"
      ],
      "metadata": {
        "colab": {
          "base_uri": "https://localhost:8080/"
        },
        "id": "sgmj8fWvHxeU",
        "outputId": "5fc2c52a-8edb-467c-f882-87d17551b8d2"
      },
      "execution_count": 99,
      "outputs": [
        {
          "output_type": "stream",
          "name": "stdout",
          "text": [
            "Accuracy of KNN Algorithm: 0.79944\n"
          ]
        }
      ]
    },
    {
      "cell_type": "code",
      "source": [
        "from sklearn.metrics import confusion_matrix,classification_report,ConfusionMatrixDisplay\n",
        "cnn1=confusion_matrix(y_pred1,y_test)"
      ],
      "metadata": {
        "id": "TjnJJu9jIPjt"
      },
      "execution_count": 110,
      "outputs": []
    },
    {
      "cell_type": "code",
      "source": [
        "out=[1,0]\n",
        "cndis1=ConfusionMatrixDisplay(cnn1,display_labels=out)\n",
        "cndis1.plot()"
      ],
      "metadata": {
        "colab": {
          "base_uri": "https://localhost:8080/",
          "height": 466
        },
        "id": "KOnmxhcIIl0U",
        "outputId": "684b08dc-94fa-4a68-e384-ea4af8e0ec1e"
      },
      "execution_count": 102,
      "outputs": [
        {
          "output_type": "execute_result",
          "data": {
            "text/plain": [
              "<sklearn.metrics._plot.confusion_matrix.ConfusionMatrixDisplay at 0x7993245d3d90>"
            ]
          },
          "metadata": {},
          "execution_count": 102
        },
        {
          "output_type": "display_data",
          "data": {
            "text/plain": [
              "<Figure size 640x480 with 2 Axes>"
            ],
            "image/png": "[encoded data removed]"
          },
          "metadata": {}
        }
      ]
    },
    {
      "cell_type": "code",
      "source": [
        "from sklearn.linear_model import LogisticRegression\n",
        "model2= LogisticRegression()\n",
        "model2.fit(x_train,y_train)\n",
        "cnn2=confusion_matrix(y_pred1,y_test)"
      ],
      "metadata": {
        "colab": {
          "base_uri": "https://localhost:8080/"
        },
        "id": "UIJfYs4kIxLE",
        "outputId": "19ef77bd-ee5d-4149-a7e1-1185a30243f1"
      },
      "execution_count": 111,
      "outputs": [
        {
          "output_type": "stream",
          "name": "stderr",
          "text": [
            "/usr/local/lib/python3.10/dist-packages/sklearn/linear_model/_logistic.py:460: ConvergenceWarning: lbfgs failed to converge (status=1):\n",
            "STOP: TOTAL NO. of ITERATIONS REACHED LIMIT.\n",
            "\n",
            "Increase the number of iterations (max_iter) or scale the data as shown in:\n",
            "    https://scikit-learn.org/stable/modules/preprocessing.html\n",
            "Please also refer to the documentation for alternative solver options:\n",
            "    https://scikit-learn.org/stable/modules/linear_model.html#logistic-regression\n",
            "  n_iter_i = _check_optimize_result(\n"
          ]
        }
      ]
    },
    {
      "cell_type": "code",
      "source": [
        "acc2 = accuracy_score(y_test,y_pred2)\n",
        "print(\"Accuracy of logistic Regression Algorithm:\", acc2)"
      ],
      "metadata": {
        "colab": {
          "base_uri": "https://localhost:8080/"
        },
        "id": "smym89elJ9FV",
        "outputId": "2aeb80ae-d139-4289-de48-fb94722bb8d9"
      },
      "execution_count": 113,
      "outputs": [
        {
          "output_type": "stream",
          "name": "stdout",
          "text": [
            "Accuracy of logistic Regression Algorithm: 0.80596\n"
          ]
        }
      ]
    },
    {
      "cell_type": "code",
      "source": [
        "y_pred2=model2.predict(x_test)\n",
        "out=[1,0]\n",
        "cndis2=ConfusionMatrixDisplay(cnn2,display_labels=out)\n",
        "cndis2.plot()"
      ],
      "metadata": {
        "colab": {
          "base_uri": "https://localhost:8080/",
          "height": 466
        },
        "id": "ffVAgDTYI-35",
        "outputId": "bfbb2436-d223-4546-93bf-eb3b12102b21"
      },
      "execution_count": 109,
      "outputs": [
        {
          "output_type": "execute_result",
          "data": {
            "text/plain": [
              "<sklearn.metrics._plot.confusion_matrix.ConfusionMatrixDisplay at 0x79931f45e290>"
            ]
          },
          "metadata": {},
          "execution_count": 109
        },
        {
          "output_type": "display_data",
          "data": {
            "text/plain": [
              "<Figure size 640x480 with 2 Axes>"
            ],
            "image/png": "[encoded data removed]"
          },
          "metadata": {}
        }
      ]
    },
    {
      "cell_type": "code",
      "source": [
        "import joblib\n",
        "joblib.dump(model2, '/content/drive/MyDrive/Colab Notebooks/DATASET/flightdelay.pkl')"
      ],
      "metadata": {
        "colab": {
          "base_uri": "https://localhost:8080/"
        },
        "id": "wa_aHRtlKKAB",
        "outputId": "c5617aef-e28c-41a4-98b5-a287744703b9"
      },
      "execution_count": 115,
      "outputs": [
        {
          "output_type": "execute_result",
          "data": {
            "text/plain": [
              "['/content/drive/MyDrive/Colab Notebooks/DATASET/flightdelay.pkl']"
            ]
          },
          "metadata": {},
          "execution_count": 115
        }
      ]
    },
    {
      "cell_type": "code",
      "source": [
        "model_crt = joblib.load('/content/drive/MyDrive/Colab Notebooks/DATASET/flightdelay.pkl')"
      ],
      "metadata": {
        "id": "SmVAdOMpKk1A"
      },
      "execution_count": 116,
      "outputs": []
    },
    {
      "cell_type": "code",
      "source": [
        "Month = int(input(\"Enter Month: \"))\n",
        "DayofMonth = int(input(\"Enter DayofMonth: \"))\n",
        "DayOfWeek = int(input(\"Enter DayOfWeek: \"))\n",
        "DepTime = int(input(\"Enter Depature Time: \"))\n",
        "UniqueCarrier = int(input(\"Enter UniqueCarrier: \"))\n",
        "Origin = int(input(\"Enter Origin: \"))\n",
        "Dest = int(input(\"Enter Destination: \"))\n",
        "Dist= int(input(\"Enter Distance: \"))"
      ],
      "metadata": {
        "id": "tD_IgZAcLGNP"
      },
      "execution_count": null,
      "outputs": []
    },
    {
      "cell_type": "code",
      "source": [
        "model_selection=model_crt.predict([[Month,DayofMonth,DayOfWeek,DepTime,UniqueCarrier,Origin,Dest,Dist]])\n",
        "model_selection"
      ],
      "metadata": {
        "colab": {
          "base_uri": "https://localhost:8080/"
        },
        "id": "_0boCO69LhvO",
        "outputId": "a9d0517f-b936-4824-d883-92c2f1467cba"
      },
      "execution_count": 124,
      "outputs": [
        {
          "output_type": "stream",
          "name": "stderr",
          "text": [
            "/usr/local/lib/python3.10/dist-packages/sklearn/base.py:465: UserWarning: X does not have valid feature names, but LogisticRegression was fitted with feature names\n",
            "  warnings.warn(\n"
          ]
        },
        {
          "output_type": "execute_result",
          "data": {
            "text/plain": [
              "array([0.])"
            ]
          },
          "metadata": {},
          "execution_count": 124
        }
      ]
    },
    {
      "cell_type": "code",
      "source": [
        "if model_selection==1:\n",
        "  print(\"Flght Delayed\")\n",
        "else:\n",
        "  print(\"Flight Not Delayed\")"
      ],
      "metadata": {
        "colab": {
          "base_uri": "https://localhost:8080/"
        },
        "id": "FzLiFCHkLkbR",
        "outputId": "71834722-5ff0-4263-8268-ae7a5c7b6d2e"
      },
      "execution_count": 125,
      "outputs": [
        {
          "output_type": "stream",
          "name": "stdout",
          "text": [
            "Flight Not Delayed\n"
          ]
        }
      ]
    },
    {
      "cell_type": "code",
      "source": [
        "    1.0        28.0        5.0     1828           19.0   174.0  199.0  423"
      ],
      "metadata": {
        "id": "FgjleR-eMPAp"
      },
      "execution_count": null,
      "outputs": []
    }
  ]
}