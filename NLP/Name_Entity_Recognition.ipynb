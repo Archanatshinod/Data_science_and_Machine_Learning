{
  "nbformat": 4,
  "nbformat_minor": 0,
  "metadata": {
    "colab": {
      "provenance": [],
      "authorship_tag": "ABX9TyN+v2dCpgN0zwY28PH3AMSR",
      "include_colab_link": true
    },
    "kernelspec": {
      "name": "python3",
      "display_name": "Python 3"
    },
    "language_info": {
      "name": "python"
    }
  },
  "cells": [
    {
      "cell_type": "markdown",
      "metadata": {
        "id": "view-in-github",
        "colab_type": "text"
      },
      "source": [
        "<a href=\"https://colab.research.google.com/github/Archanatshinod/Data_science_and_Machine_Learning/blob/main/NLP/NER.ipynb\" target=\"_parent\"><img src=\"https://colab.research.google.com/assets/colab-badge.svg\" alt=\"Open In Colab\"/></a>"
      ]
    },
    {
      "cell_type": "code",
      "execution_count": null,
      "metadata": {
        "id": "u99GDEgruUpB"
      },
      "outputs": [],
      "source": [
        "import spacy\n",
        "nlp=spacy.load(\"en_core_web_sm\")\n"
      ]
    },
    {
      "cell_type": "code",
      "source": [
        "sample_text = \"\"\"\n",
        "Apple Inc. is planning to open a new store in San Francisco on January 20, 2024.\n",
        "Elon Musk, the CEO of Tesla, announced a new electric car model at a recent conference.\n",
        "The Eiffel Tower is located in Paris, France.\n",
        "\"\"\"\n",
        "doc=nlp(sample_text)\n",
        "print(doc.ents)"
      ],
      "metadata": {
        "colab": {
          "base_uri": "https://localhost:8080/"
        },
        "id": "ww9zV2OhvAAI",
        "outputId": "bc6317c9-0c54-4261-9962-d2f7be0b27b5"
      },
      "execution_count": null,
      "outputs": [
        {
          "output_type": "stream",
          "name": "stdout",
          "text": [
            "(Apple Inc., San Francisco, January 20, 2024, Elon Musk, Tesla, The Eiffel Tower, Paris, France)\n"
          ]
        }
      ]
    },
    {
      "cell_type": "code",
      "source": [
        "for ent in doc.ents:\n",
        "  print(f\"{ent.text}-{ent.label_}\")"
      ],
      "metadata": {
        "colab": {
          "base_uri": "https://localhost:8080/"
        },
        "id": "UzopqrrLvkfh",
        "outputId": "fb720826-12b0-4a2f-cabe-867c15ce6409"
      },
      "execution_count": null,
      "outputs": [
        {
          "output_type": "stream",
          "name": "stdout",
          "text": [
            "Apple Inc.-ORG\n",
            "San Francisco-GPE\n",
            "January 20, 2024-DATE\n",
            "Elon Musk-PERSON\n",
            "Tesla-ORG\n",
            "The Eiffel Tower-FAC\n",
            "Paris-GPE\n",
            "France-GPE\n"
          ]
        }
      ]
    },
    {
      "cell_type": "code",
      "source": [
        "nlp=spacy.load(\"en_core_web_sm\")\n",
        "sample_text = \"\"\"\n",
        "Google was founded by Larry Page and Sergey Brin in September 1998.\n",
        "The Mona Lisa, painted by Leonardo da Vinci, is displayed in the Louvre Museum.\n",
        "Albert Einstein, born on March 14, 1879, was a theoretical physicist.\n",
        "\"\"\"\n",
        "doc = nlp(sample_text)\n",
        "print(\"Named Entities:\")\n",
        "for ent in doc.ents:\n",
        "    print(f\"{ent.text} - {ent.label_}\")\n",
        "print(\"\\nDetailed Entities:\")\n",
        "for ent in doc.ents:\n",
        "    print(f\"{ent.text} - {ent.start} to {ent.end-1} ({ent.label_}) - {spacy.explain(ent.label_)}\")\n"
      ],
      "metadata": {
        "colab": {
          "base_uri": "https://localhost:8080/"
        },
        "id": "kURko4kLv_Us",
        "outputId": "d2e94f2c-dbed-4dd4-9e01-1b063bbd7acb"
      },
      "execution_count": null,
      "outputs": [
        {
          "output_type": "stream",
          "name": "stdout",
          "text": [
            "Named Entities:\n",
            "Google - ORG\n",
            "Larry Page - PERSON\n",
            "Sergey Brin - PERSON\n",
            "September 1998 - DATE\n",
            "The Mona Lisa - WORK_OF_ART\n",
            "Leonardo da Vinci - PERSON\n",
            "the Louvre Museum - ORG\n",
            "Albert Einstein - PERSON\n",
            "March 14, 1879 - DATE\n",
            "\n",
            "Detailed Entities:\n",
            "Google - 1 to 1 (ORG) - Companies, agencies, institutions, etc.\n",
            "Larry Page - 5 to 6 (PERSON) - People, including fictional\n",
            "Sergey Brin - 8 to 9 (PERSON) - People, including fictional\n",
            "September 1998 - 11 to 12 (DATE) - Absolute or relative dates or periods\n",
            "The Mona Lisa - 15 to 17 (WORK_OF_ART) - Titles of books, songs, etc.\n",
            "Leonardo da Vinci - 21 to 23 (PERSON) - People, including fictional\n",
            "the Louvre Museum - 28 to 30 (ORG) - Companies, agencies, institutions, etc.\n",
            "Albert Einstein - 33 to 34 (PERSON) - People, including fictional\n",
            "March 14, 1879 - 38 to 41 (DATE) - Absolute or relative dates or periods\n"
          ]
        }
      ]
    },
    {
      "cell_type": "code",
      "source": [],
      "metadata": {
        "id": "-pzekh0H7r13"
      },
      "execution_count": null,
      "outputs": []
    }
  ]
}
