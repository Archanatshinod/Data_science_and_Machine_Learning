{
  "nbformat": 4,
  "nbformat_minor": 0,
  "metadata": {
    "colab": {
      "provenance": [],
      "authorship_tag": "ABX9TyP0dCgIBgPgmRIBBn4K09kk",
      "include_colab_link": true
    },
    "kernelspec": {
      "name": "python3",
      "display_name": "Python 3"
    },
    "language_info": {
      "name": "python"
    }
  },
  "cells": [
    {
      "cell_type": "markdown",
      "metadata": {
        "id": "view-in-github",
        "colab_type": "text"
      },
      "source": [
        "<a href=\"https://colab.research.google.com/github/Archanatshinod/Data_science_and_Machine_Learning/blob/main/Stopwords.ipynb\" target=\"_parent\"><img src=\"https://colab.research.google.com/assets/colab-badge.svg\" alt=\"Open In Colab\"/></a>"
      ]
    },
    {
      "cell_type": "code",
      "execution_count": null,
      "metadata": {
        "colab": {
          "base_uri": "https://localhost:8080/"
        },
        "id": "_FxbU9zRebAB",
        "outputId": "4b42f172-5391-4cee-8aaf-8bfb61c62a09"
      },
      "outputs": [
        {
          "output_type": "stream",
          "name": "stderr",
          "text": [
            "[nltk_data] Downloading package stopwords to /root/nltk_data...\n",
            "[nltk_data]   Unzipping corpora/stopwords.zip.\n",
            "[nltk_data] Downloading package punkt to /root/nltk_data...\n",
            "[nltk_data]   Unzipping tokenizers/punkt.zip.\n"
          ]
        }
      ],
      "source": [
        "import nltk\n",
        "nltk.download('stopwords')\n",
        "nltk.download('punkt')\n",
        "from nltk.corpus import stopwords\n",
        "from nltk.tokenize import word_tokenize"
      ]
    },
    {
      "cell_type": "code",
      "source": [
        "print(set(stopwords.words('english')))"
      ],
      "metadata": {
        "colab": {
          "base_uri": "https://localhost:8080/"
        },
        "id": "D_IUf9whghRZ",
        "outputId": "d57054cc-e654-47d3-903e-ce316c66d016"
      },
      "execution_count": null,
      "outputs": [
        {
          "output_type": "stream",
          "name": "stdout",
          "text": [
            "{'hers', 'this', 'why', 'theirs', 'just', \"should've\", 'the', 'through', 'an', 'before', 'while', 'its', \"you'll\", 't', 'll', 'a', 'don', 'not', \"you're\", 'did', 'some', 'm', 'down', 'off', 'most', 'as', \"hasn't\", 'it', 'herself', \"that'll\", 'does', 'y', \"couldn't\", \"wouldn't\", 'when', 'whom', 'but', 'my', 'been', 'should', 'wouldn', 'now', 'further', 'until', 'other', 'wasn', 'i', \"mustn't\", 'no', 'will', 'can', 'they', 'his', 'where', 'in', 'each', 'very', 'under', \"needn't\", 'is', 'at', \"haven't\", 'having', 'myself', 'have', 'aren', \"shouldn't\", \"you'd\", 'against', 'ours', 'above', 's', 'are', 'has', 'him', 'itself', 'those', 'up', 'into', 'o', 'shouldn', \"won't\", 'mustn', 'doing', 'isn', 'am', 'himself', 'both', 'from', 'all', 'their', 'for', \"hadn't\", 'by', 'during', 'which', \"she's\", 'd', 'what', 'shan', 'themselves', 'ourselves', 'yours', 'them', \"mightn't\", 'few', 'didn', 'hadn', 'again', 'we', 'he', 're', 'of', \"don't\", 'haven', 'ma', 'her', 'mightn', 'couldn', 'your', 'after', \"doesn't\", \"it's\", \"shan't\", 'me', 'you', 'doesn', 'over', 'needn', 'and', 'if', 'who', \"aren't\", 'own', 'yourself', 'had', 'here', 'any', 'about', 'more', 'ain', 'too', 've', \"didn't\", 'hasn', 'between', 'being', \"wasn't\", 'our', 'won', 'nor', 'same', 'once', 'these', 'to', \"isn't\", 'be', \"weren't\", 'that', 'because', 'yourselves', 'such', 'then', \"you've\", 'there', 'only', 'she', 'below', 'with', 'or', 'how', 'weren', 'out', 'was', 'on', 'were', 'do', 'than', 'so'}\n"
          ]
        }
      ]
    },
    {
      "cell_type": "code",
      "source": [
        "example_sent = \"This is a sample sentence, showing off the stop words filtration.\"\n",
        "\n",
        "stop_words = set(stopwords.words('english'))\n",
        "\n",
        "word_tokens = word_tokenize(example_sent)"
      ],
      "metadata": {
        "id": "R0AK5z1Igjsc"
      },
      "execution_count": null,
      "outputs": []
    },
    {
      "cell_type": "code",
      "source": [],
      "metadata": {
        "id": "6ESkgnu6hEiW"
      },
      "execution_count": null,
      "outputs": []
    },
    {
      "cell_type": "code",
      "metadata": {
        "id": "qU4spRlD2dM_",
        "colab": {
          "base_uri": "https://localhost:8080/"
        },
        "outputId": "7992970b-02e5-403a-d01c-f143ebd0ce71"
      },
      "source": [
        "example_sent = \"This is a sample sentence, showing off the stop words filtration.\"\n",
        "\n",
        "stop_words = set(stopwords.words('english'))\n",
        "\n",
        "word_tokens = word_tokenize(example_sent)\n",
        "\n",
        "filtered_sentence = []\n",
        "\n",
        "for w in word_tokens:\n",
        "    if w not in stop_words:\n",
        "        filtered_sentence.append(w)\n",
        "\n",
        "print(\"EXAMPLE SENTENCE\")\n",
        "print(example_sent)\n",
        "print(\"\\n\")\n",
        "print(\"WORD TOKENS\")\n",
        "print(word_tokens)\n",
        "print(\"\\n\")\n",
        "print(\"FILTERED SENTENCE i.e, stop words removed\")\n",
        "print(filtered_sentence)"
      ],
      "execution_count": null,
      "outputs": [
        {
          "output_type": "stream",
          "name": "stdout",
          "text": [
            "EXAMPLE SENTENCE\n",
            "This is a sample sentence, showing off the stop words filtration.\n",
            "\n",
            "\n",
            "WORD TOKENS\n",
            "['This', 'is', 'a', 'sample', 'sentence', ',', 'showing', 'off', 'the', 'stop', 'words', 'filtration', '.']\n",
            "\n",
            "\n",
            "FILTERED SENTENCE i.e, stop words removed\n",
            "['This', 'sample', 'sentence', ',', 'showing', 'stop', 'words', 'filtration', '.']\n"
          ]
        }
      ]
    },
    {
      "cell_type": "code",
      "source": [],
      "metadata": {
        "id": "HG3OYX84idyq"
      },
      "execution_count": null,
      "outputs": []
    }
  ]
}
